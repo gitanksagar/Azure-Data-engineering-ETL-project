{
 "cells": [
  {
   "cell_type": "code",
   "execution_count": null,
   "id": "889fff54-b513-423a-aeb8-b87b53f772d9",
   "metadata": {},
   "outputs": [],
   "source": [
    "table_name []\n",
    "\n",
    "for i in dbutils.fs.ls('mnt/bronze/SalesLT/'):\n",
    "    table_name.append(i.name.split('/')[0])"
   ]
  },
  {
   "cell_type": "code",
   "execution_count": null,
   "id": "3801bb3f-7ee5-4fa6-a23e-44d96e5663d2",
   "metadata": {},
   "outputs": [],
   "source": [
    "from pyspark.sql.functions import from_utc_timestamp, date_format\n",
    "from pyspark.sql.types import TimestampType\n",
    "\n",
    "for i in table_name:\n",
    "    path = '/mnt/bronze/SalesLT/' + i + '/' + i +'.parquet'\n",
    "    df = spark.read.format('parquet').load(path)\n",
    "    column = df.columns\n",
    "\n",
    "    for col in column:\n",
    "        if \"Date\" in col or \"date\" in col:\n",
    "            df = df.withColumn(col,date_format(from_utc_timestamp(df[col].cast(TimestampType()), \"UTC\"), \"yyyy-MM-dd\"))\n",
    "\n",
    "    output_path = '/mnt/silver/SalesLT' + i +'/'\n",
    "    df.write.format('delta').mode(\"overwrite\").save(output_path)"
   ]
  },
  {
   "cell_type": "code",
   "execution_count": null,
   "id": "599ba540-3acb-4117-b031-0bffcd2f3f9c",
   "metadata": {},
   "outputs": [],
   "source": []
  }
 ],
 "metadata": {
  "kernelspec": {
   "display_name": "Python 3 (ipykernel)",
   "language": "python",
   "name": "python3"
  },
  "language_info": {
   "codemirror_mode": {
    "name": "ipython",
    "version": 3
   },
   "file_extension": ".py",
   "mimetype": "text/x-python",
   "name": "python",
   "nbconvert_exporter": "python",
   "pygments_lexer": "ipython3",
   "version": "3.8.0"
  }
 },
 "nbformat": 4,
 "nbformat_minor": 5
}
