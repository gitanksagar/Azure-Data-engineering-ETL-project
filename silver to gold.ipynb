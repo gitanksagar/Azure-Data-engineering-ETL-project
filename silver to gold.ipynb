{
 "cells": [
  {
   "cell_type": "code",
   "execution_count": null,
   "id": "be3d39ad-1740-4d38-8894-112218f7a19b",
   "metadata": {},
   "outputs": [],
   "source": [
    "table_name []\n",
    "\n",
    "for i in dbutils.fs.ls('mnt/silver/SalesLT/'):\n",
    "    table_name.append(i.name.split('/')[0])"
   ]
  },
  {
   "cell_type": "code",
   "execution_count": null,
   "id": "28bd12f0-50c3-4321-95dd-50efafaa8310",
   "metadata": {},
   "outputs": [],
   "source": [
    "for name in table_name:\n",
    "    path = '/mnt/silver/SalesLT/' + name\n",
    "    df = spark.read.format('delta').load(path)\n",
    "\n",
    "    column_names = df.columns\n",
    "\n",
    "    for old_col_name in column_names:\n",
    "        # Convert column name from ColumnName to Column_name format\n",
    "        new_col_name = \"\".join([\"_\"+char if char.isupper() and not old_col_name[i-1].isupper() else char for i, char in enumerate(old_col_name)]).lstrip(\"_\")\n",
    "\n",
    "        # Change the column name using withColumnRenamed and regexp_replace\n",
    "        df=df.withColumnRenamed(old_col_name,new_col_name))\n",
    "\n",
    "    output_path = '/mnt/gold/SalesLT/' + name + '/'\n",
    "    df.write.format('delta').mode(\"overwrite\").save(output_path)"
   ]
  }
 ],
 "metadata": {
  "kernelspec": {
   "display_name": "Python 3 (ipykernel)",
   "language": "python",
   "name": "python3"
  },
  "language_info": {
   "codemirror_mode": {
    "name": "ipython",
    "version": 3
   },
   "file_extension": ".py",
   "mimetype": "text/x-python",
   "name": "python",
   "nbconvert_exporter": "python",
   "pygments_lexer": "ipython3",
   "version": "3.8.0"
  }
 },
 "nbformat": 4,
 "nbformat_minor": 5
}
